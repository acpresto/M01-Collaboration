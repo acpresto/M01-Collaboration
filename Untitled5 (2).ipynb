{
 "cells": [
  {
   "cell_type": "code",
   "execution_count": 1,
   "id": "ef8299c6-0d1c-48be-9848-a41e70c5ffdb",
   "metadata": {},
   "outputs": [
    {
     "name": "stdin",
     "output_type": "stream",
     "text": [
      "Enter year:  2021\n",
      "Enter make:  Honda\n",
      "Enter model:  Civic Sport\n",
      "Enter the number of doors:  4\n",
      "Enter the type of roof:  Hardtop\n"
     ]
    },
    {
     "name": "stdout",
     "output_type": "stream",
     "text": [
      "Vehicle Type:\n",
      "car\n",
      "Year:\n",
      "2021\n",
      "Make:\n",
      "Honda\n",
      "Model:\n",
      "Civic Sport\n",
      "Number of doors:\n",
      "4\n",
      "Type of roof:\n",
      "Hardtop\n"
     ]
    }
   ],
   "source": [
    "#Author: Adam Preston\n",
    "#File: M03 Case Study\n",
    "#Program Description: To create an app that allows user to input information about a vehicle and output the data in an easy to read format.  \n",
    "#Date: 4/9/2023\n",
    "\n",
    "\n",
    "#Vehicle class for vehicle type\n",
    "class vehicle:\n",
    "    def __init__(self, vehicle_type):\n",
    "        self.vehicle_type = vehicle_type\n",
    "  #Automobile class  \n",
    "class Automobile(vehicle):\n",
    "    def __init__(self, vehicle_type):\n",
    "        super().__init__(vehicle_type)\n",
    "        self.year = None\n",
    "        self.make = None\n",
    "        self.model = None\n",
    "        self.doors = None\n",
    "        self.roof = None\n",
    "   #User input prompts     \n",
    "    def add_vehicle(self):\n",
    "        self.year = input(\"Enter year: \")\n",
    "        self.make = input(\"Enter make: \")\n",
    "        self.model = input(\"Enter model: \")\n",
    "        self.doors = input(\"Enter the number of doors: \")\n",
    "        self.roof = input(\"Enter the type of roof: \")\n",
    "\n",
    " #To get car for vehicle type, and return the user input\n",
    "#Not sure how to get the input and its type on the same line, so I just put it above\n",
    "car = Automobile(\"car\")\n",
    "car.add_vehicle()    \n",
    "print(\"Vehicle Type:\")    \n",
    "print(car.vehicle_type)\n",
    "print(\"Year:\")\n",
    "print(car.year)\n",
    "print(\"Make:\")\n",
    "print(car.make)\n",
    "print(\"Model:\")\n",
    "print(car.model)\n",
    "print(\"Number of doors:\")\n",
    "print(car.doors)\n",
    "print(\"Type of roof:\")\n",
    "print(car.roof)\n"
   ]
  },
  {
   "cell_type": "code",
   "execution_count": null,
   "id": "364e753d-d122-44b0-9836-31124d8f8a32",
   "metadata": {},
   "outputs": [],
   "source": []
  }
 ],
 "metadata": {
  "kernelspec": {
   "display_name": "Python 3 (ipykernel)",
   "language": "python",
   "name": "python3"
  },
  "language_info": {
   "codemirror_mode": {
    "name": "ipython",
    "version": 3
   },
   "file_extension": ".py",
   "mimetype": "text/x-python",
   "name": "python",
   "nbconvert_exporter": "python",
   "pygments_lexer": "ipython3",
   "version": "3.10.9"
  }
 },
 "nbformat": 4,
 "nbformat_minor": 5
}
