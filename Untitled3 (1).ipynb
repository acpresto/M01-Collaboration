{
 "cells": [
  {
   "cell_type": "code",
   "execution_count": 4,
   "id": "9aa2cacb-f765-4ea8-ad02-62a6a04b8a40",
   "metadata": {},
   "outputs": [
    {
     "data": {
      "text/plain": [
       "['mozzarella', 'cinderella', 'salmonella']"
      ]
     },
     "execution_count": 4,
     "metadata": {},
     "output_type": "execute_result"
    }
   ],
   "source": [
    "things = list(['mozzarella', 'cinderella', 'salmonella'])\n",
    "things\n",
    "              "
   ]
  },
  {
   "cell_type": "code",
   "execution_count": 1,
   "id": "422b62aa-a63f-4d00-a862-59d4e68e3f03",
   "metadata": {},
   "outputs": [
    {
     "data": {
      "text/plain": [
       "['mozzarella', 'Cinderella', 'salmonella']"
      ]
     },
     "execution_count": 1,
     "metadata": {},
     "output_type": "execute_result"
    }
   ],
   "source": [
    "things = ['mozzarella', 'cinderella', 'salmonella']\n",
    "things[1] = 'Cinderella'\n",
    "things"
   ]
  },
  {
   "cell_type": "code",
   "execution_count": 2,
   "id": "2012d0f6-9c5d-424a-96e0-88b1e8555807",
   "metadata": {},
   "outputs": [
    {
     "data": {
      "text/plain": [
       "['MOZZARELLA', 'cinderella', 'salmonella']"
      ]
     },
     "execution_count": 2,
     "metadata": {},
     "output_type": "execute_result"
    }
   ],
   "source": [
    "things = ['mozzarella', 'cinderella', 'salmonella']\n",
    "things[0] = 'MOZZARELLA'\n",
    "things"
   ]
  },
  {
   "cell_type": "code",
   "execution_count": 3,
   "id": "72d5ec75-27ea-461a-8916-1d327ff954a0",
   "metadata": {},
   "outputs": [
    {
     "data": {
      "text/plain": [
       "['mozzarella', 'cinderella']"
      ]
     },
     "execution_count": 3,
     "metadata": {},
     "output_type": "execute_result"
    }
   ],
   "source": [
    "things = ['mozzarella', 'cinderella', 'salmonella']\n",
    "things.pop()\n",
    "'salmonella'\n",
    "things"
   ]
  },
  {
   "cell_type": "code",
   "execution_count": 13,
   "id": "6dd76cef-130e-4932-ad39-6d4e21e0bd26",
   "metadata": {},
   "outputs": [
    {
     "name": "stdout",
     "output_type": "stream",
     "text": [
      "['Harry', 'Ron', 'Hermione']\n"
     ]
    }
   ],
   "source": [
    "def good():\n",
    "    return ['Harry', 'Ron', 'Hermione']\n",
    "print(good())"
   ]
  },
  {
   "cell_type": "code",
   "execution_count": 15,
   "id": "7b976232-210d-4f67-9b51-f4e17c0efd31",
   "metadata": {},
   "outputs": [
    {
     "name": "stdout",
     "output_type": "stream",
     "text": [
      "5\n"
     ]
    }
   ],
   "source": [
    "for n in (n for n in range(10) if n % 2 != 0):\\n,\n",
    "        print(n)\""
   ]
  },
  {
   "cell_type": "code",
   "execution_count": null,
   "id": "6adab914-7fa9-4b51-b232-8749c0f18bc0",
   "metadata": {},
   "outputs": [],
   "source": []
  },
  {
   "cell_type": "code",
   "execution_count": null,
   "id": "5c45a6a1-a251-4bf6-a7b8-34879c0e3a75",
   "metadata": {},
   "outputs": [],
   "source": []
  }
 ],
 "metadata": {
  "kernelspec": {
   "display_name": "Python 3 (ipykernel)",
   "language": "python",
   "name": "python3"
  },
  "language_info": {
   "codemirror_mode": {
    "name": "ipython",
    "version": 3
   },
   "file_extension": ".py",
   "mimetype": "text/x-python",
   "name": "python",
   "nbconvert_exporter": "python",
   "pygments_lexer": "ipython3",
   "version": "3.10.9"
  }
 },
 "nbformat": 4,
 "nbformat_minor": 5
}
