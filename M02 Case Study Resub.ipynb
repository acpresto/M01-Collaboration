{
 "cells": [
  {
   "cell_type": "code",
   "execution_count": null,
   "id": "b62fa3f7-a408-44ce-bc0f-1ab01999072f",
   "metadata": {},
   "outputs": [
    {
     "name": "stdin",
     "output_type": "stream",
     "text": [
      "Enter student's last name or ZZZ to quit:  Preston\n",
      "Enter student's first name or ZZZ to quit:  Adam\n",
      "Enter GPA:  4.0\n"
     ]
    },
    {
     "name": "stdout",
     "output_type": "stream",
     "text": [
      "Adam Preston has made the Dean's List.\n"
     ]
    },
    {
     "name": "stdin",
     "output_type": "stream",
     "text": [
      "Enter student's last name:  Mckee\n",
      "Enter student's first name or ZZZ to quit:  Eli\n",
      "Enter GPA:  2.0\n"
     ]
    },
    {
     "name": "stdout",
     "output_type": "stream",
     "text": [
      "Eli Mckee did not make Dean's List or Honor Roll.\n"
     ]
    },
    {
     "name": "stdin",
     "output_type": "stream",
     "text": [
      "Enter student's last name:  Oldham\n",
      "Enter student's first name or ZZZ to quit:  Ezra\n",
      "Enter GPA:  5.0\n"
     ]
    },
    {
     "name": "stdout",
     "output_type": "stream",
     "text": [
      "Ezra Oldham has made the Dean's List.\n"
     ]
    },
    {
     "name": "stdin",
     "output_type": "stream",
     "text": [
      "Enter student's last name:  Herman\n",
      "Enter student's first name or ZZZ to quit:  Joe\n",
      "Enter GPA:  3.49\n"
     ]
    },
    {
     "name": "stdout",
     "output_type": "stream",
     "text": [
      "Joe Herman has made the honor roll.\n"
     ]
    },
    {
     "name": "stdin",
     "output_type": "stream",
     "text": [
      "Enter student's last name:  John\n",
      "Enter student's first name or ZZZ to quit:  Bob\n",
      "Enter GPA:  2.0\n"
     ]
    },
    {
     "name": "stdout",
     "output_type": "stream",
     "text": [
      "Bob John did not make Dean's List or Honor Roll.\n"
     ]
    }
   ],
   "source": [
    "#Adam Preston \n",
    "#M02 Case Study\n",
    "#This app will allow the user to enter a student's name and GPA and tell them whether or not the student made Dean's list or Honor Roll. \n",
    "\n",
    "#Get name from user, qutting the loop if ZZZ is entered. \n",
    "lastName = input(\"Enter student's last name or ZZZ to quit: \")\n",
    "while lastName != \"ZZZ\":\n",
    "    firstName = input(\"Enter student's first name or ZZZ to quit: \")\n",
    "    gpa = float(input(\"Enter GPA: \")) \n",
    "    #If statements for deans list and honor roll\n",
    "    if gpa >= 3.5:\n",
    "        print(\"{} {} has made the Dean's List.\".format(firstName, lastName))\n",
    "    elif gpa >= 3.25:\n",
    "        print(\"{} {} has made the honor roll.\".format(firstName, lastName))\n",
    "    else:\n",
    "        print(\"{} {} did not make Dean's List or Honor Roll.\".format(firstName, lastName))\n",
    "    #Start Over\n",
    "    lastName = input(\"Enter student's last name: \")"
   ]
  },
  {
   "cell_type": "code",
   "execution_count": null,
   "id": "462d9e25-7974-40f5-87dd-8fd64fe0e6f9",
   "metadata": {},
   "outputs": [],
   "source": []
  }
 ],
 "metadata": {
  "kernelspec": {
   "display_name": "Python 3 (ipykernel)",
   "language": "python",
   "name": "python3"
  },
  "language_info": {
   "codemirror_mode": {
    "name": "ipython",
    "version": 3
   },
   "file_extension": ".py",
   "mimetype": "text/x-python",
   "name": "python",
   "nbconvert_exporter": "python",
   "pygments_lexer": "ipython3",
   "version": "3.10.9"
  }
 },
 "nbformat": 4,
 "nbformat_minor": 5
}
