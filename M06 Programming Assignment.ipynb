{
 "cells": [
  {
   "cell_type": "code",
   "execution_count": 7,
   "id": "b20d35e0-1ec8-4682-8ccb-a49b10093c0b",
   "metadata": {},
   "outputs": [],
   "source": [
    "from datetime import date\n",
    "now = date.today()\n",
    "now_string = now.strftime(\"%m-%d-%y\")\n",
    "with open (\"today.txt\", 'a') as file:\n",
    "    file.write(now_string)\n"
   ]
  },
  {
   "cell_type": "code",
   "execution_count": 12,
   "id": "0a3f6bcc-2b3a-4416-95e6-82db72f1f2ae",
   "metadata": {},
   "outputs": [
    {
     "name": "stdout",
     "output_type": "stream",
     "text": [
      "04-27-23\n"
     ]
    }
   ],
   "source": [
    "with open(\"today.txt\",'r') as file:\n",
    "    now_string = file.read()\n",
    "    print(now_string)"
   ]
  },
  {
   "cell_type": "code",
   "execution_count": 22,
   "id": "f314a12f-edec-4fcd-938c-f5f087fdb509",
   "metadata": {},
   "outputs": [
    {
     "name": "stdout",
     "output_type": "stream",
     "text": [
      "2023-04-27 00:00:00\n"
     ]
    }
   ],
   "source": [
    "from datetime import datetime\n",
    "format = \"%m-%d-%y\"\n",
    "with open(\"today.txt\", 'r') as file:\n",
    "    now_string = file.read().strip()\n",
    "    now_date = datetime.strptime(now_string, format)\n",
    "    print(now_date)"
   ]
  },
  {
   "cell_type": "code",
   "execution_count": 33,
   "id": "c6d4e6ef-af5f-4121-a7fa-46f0e7ac2317",
   "metadata": {},
   "outputs": [
    {
     "name": "stdout",
     "output_type": "stream",
     "text": [
      "2023-04-27 17:50:05.552390\n",
      "2023-04-27 17:50:05.552390\n",
      "2023-04-27 17:50:05.552390\n"
     ]
    }
   ],
   "source": [
    "import multiprocessing,time,datetime\n",
    "now = datetime.datetime.now()\n",
    "def process1(one):\n",
    "    print(now)\n",
    "    time.sleep(1)\n",
    "def process2(two):\n",
    "    print(now)\n",
    "    time.sleep(.3)\n",
    "def process3(three):\n",
    "    print(now)\n",
    "if __name__==\"__main__\":\n",
    "    process1(\"first\")\n",
    "    process2(\"second\")\n",
    "    process3(\"third\")\n",
    "    p = multiprocessing.Process(target = process3, args = (\"third\",))\n",
    "    p.start\n",
    "    time.sleep(1)\n",
    "\n",
    "    \n",
    "        \n",
    "\n",
    "    "
   ]
  },
  {
   "cell_type": "code",
   "execution_count": null,
   "id": "82fece44-b9f7-465d-a794-6720c97382d7",
   "metadata": {},
   "outputs": [],
   "source": []
  }
 ],
 "metadata": {
  "kernelspec": {
   "display_name": "Python 3 (ipykernel)",
   "language": "python",
   "name": "python3"
  },
  "language_info": {
   "codemirror_mode": {
    "name": "ipython",
    "version": 3
   },
   "file_extension": ".py",
   "mimetype": "text/x-python",
   "name": "python",
   "nbconvert_exporter": "python",
   "pygments_lexer": "ipython3",
   "version": "3.10.9"
  }
 },
 "nbformat": 4,
 "nbformat_minor": 5
}
